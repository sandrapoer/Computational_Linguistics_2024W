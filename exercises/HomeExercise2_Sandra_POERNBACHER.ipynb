{
  "nbformat": 4,
  "nbformat_minor": 0,
  "metadata": {
    "colab": {
      "provenance": []
    },
    "kernelspec": {
      "name": "python3",
      "display_name": "Python 3"
    }
  },
  "cells": [
    {
      "cell_type": "markdown",
      "metadata": {
        "id": "view-in-github"
      },
      "source": [
        "<a href=\"https://colab.research.google.com/github/dgromann/cl_intro_ws2024/blob/main/exercises/HomeExercise2.ipynb\" target=\"_parent\"><img src=\"https://colab.research.google.com/assets/colab-badge.svg\" alt=\"Open In Colab\"/></a>"
      ]
    },
    {
      "cell_type": "markdown",
      "source": [
        "# Home Exericse 2: Word Embeddings\n",
        "In this second home exercise, you will use the knowledge from Tutorial 3 to perform a more systematic evaluation of embeddings based on a small analogy dataset.\n",
        "\n",
        "In this notebook, please complete all instructions starting with 👋 ⚒ in the code cell after the sign or provide your analysis in the text cell after the sign."
      ],
      "metadata": {
        "id": "N4_fSCGEAFZ3"
      }
    },
    {
      "cell_type": "markdown",
      "source": [
        "## **Word2Vec Analogy-based Evaluation**"
      ],
      "metadata": {
        "id": "vnXNn2eL1jnF"
      }
    },
    {
      "cell_type": "markdown",
      "source": [
        "We first need to load the pretrained embeddings and the dataset. The dataset can be found on [GitHub](https://github.com/dgromann/cl_intro_ws2024/blob/main/exercises/HomeExercise2.txt) and will be loaded directly from there."
      ],
      "metadata": {
        "id": "YHR4hkXKvd87"
      }
    },
    {
      "cell_type": "code",
      "source": [
        "!wget https://github.com/dgromann/cl_intro_ws2024/raw/main/word2vec_embeddings.bin\n",
        "!wget !wget https://raw.githubusercontent.com/dgromann/cl_intro_ws2024/master/exercises/HomeExercise2.txt"
      ],
      "metadata": {
        "id": "kxwz_cPyW4lG",
        "outputId": "2b19790c-fb17-4745-8b94-183a05294687",
        "colab": {
          "base_uri": "https://localhost:8080/"
        }
      },
      "execution_count": null,
      "outputs": [
        {
          "output_type": "stream",
          "name": "stdout",
          "text": [
            "--2024-11-18 14:32:33--  https://github.com/dgromann/cl_intro_ws2024/raw/main/word2vec_embeddings.bin\n",
            "Resolving github.com (github.com)... 140.82.121.4\n",
            "Connecting to github.com (github.com)|140.82.121.4|:443... connected.\n",
            "HTTP request sent, awaiting response... 302 Found\n",
            "Location: https://raw.githubusercontent.com/dgromann/cl_intro_ws2024/main/word2vec_embeddings.bin [following]\n",
            "--2024-11-18 14:32:34--  https://raw.githubusercontent.com/dgromann/cl_intro_ws2024/main/word2vec_embeddings.bin\n",
            "Resolving raw.githubusercontent.com (raw.githubusercontent.com)... 185.199.109.133, 185.199.110.133, 185.199.108.133, ...\n",
            "Connecting to raw.githubusercontent.com (raw.githubusercontent.com)|185.199.109.133|:443... connected.\n",
            "HTTP request sent, awaiting response... 200 OK\n",
            "Length: 96769269 (92M) [application/octet-stream]\n",
            "Saving to: ‘word2vec_embeddings.bin.1’\n",
            "\n",
            "word2vec_embeddings 100%[===================>]  92.29M   124MB/s    in 0.7s    \n",
            "\n",
            "2024-11-18 14:32:35 (124 MB/s) - ‘word2vec_embeddings.bin.1’ saved [96769269/96769269]\n",
            "\n",
            "--2024-11-18 14:32:35--  http://!wget/\n",
            "Resolving !wget (!wget)... failed: Name or service not known.\n",
            "wget: unable to resolve host address ‘!wget’\n",
            "--2024-11-18 14:32:35--  https://raw.githubusercontent.com/dgromann/cl_intro_ws2024/master/exercises/HomeExercise2.txt\n",
            "Resolving raw.githubusercontent.com (raw.githubusercontent.com)... 185.199.108.133, 185.199.109.133, 185.199.110.133, ...\n",
            "Connecting to raw.githubusercontent.com (raw.githubusercontent.com)|185.199.108.133|:443... connected.\n",
            "HTTP request sent, awaiting response... 200 OK\n",
            "Length: 272272 (266K) [text/plain]\n",
            "Saving to: ‘HomeExercise2.txt.1’\n",
            "\n",
            "HomeExercise2.txt.1 100%[===================>] 265.89K  --.-KB/s    in 0.02s   \n",
            "\n",
            "2024-11-18 14:32:35 (16.4 MB/s) - ‘HomeExercise2.txt.1’ saved [272272/272272]\n",
            "\n",
            "FINISHED --2024-11-18 14:32:35--\n",
            "Total wall clock time: 0.3s\n",
            "Downloaded: 1 files, 266K in 0.02s (16.4 MB/s)\n"
          ]
        }
      ]
    },
    {
      "cell_type": "markdown",
      "source": [
        "Then we need to load the model with gensim so that we can access the embeddings."
      ],
      "metadata": {
        "id": "If_-whLgv9kH"
      }
    },
    {
      "cell_type": "code",
      "source": [
        "import gensim\n",
        "\n",
        "model = gensim.models.KeyedVectors.load_word2vec_format(\"word2vec_embeddings.bin\", binary=True)"
      ],
      "metadata": {
        "id": "1z4TAwF0v-8x"
      },
      "execution_count": null,
      "outputs": []
    },
    {
      "cell_type": "markdown",
      "source": [
        "And we need to open the HomeExercise2.txt file that contains analogy pairs."
      ],
      "metadata": {
        "id": "88Q9RW2ZwHkz"
      }
    },
    {
      "cell_type": "code",
      "source": [
        "analogy = open(\"HomeExercise2.txt\", \"r\")\n",
        "analogy_lines = analogy.readlines()"
      ],
      "metadata": {
        "id": "saqImWrswKYJ"
      },
      "execution_count": null,
      "outputs": []
    },
    {
      "cell_type": "markdown",
      "source": [
        "To look at the first few lines, the following code can be used. The analogies are grouped by categories that is indicated on the line before the anlogies are listed with a colon :. The last and fourth element of the line represents the true result we will use to evaluate the embedding model."
      ],
      "metadata": {
        "id": "X8fwdQjOxDR1"
      }
    },
    {
      "cell_type": "code",
      "source": [
        "line_no = 0\n",
        "for line in analogy_lines:\n",
        "  line_no += 1\n",
        "  print(f\"Line number {line_no} with analogy {line}\")\n",
        "  if line_no == 5:\n",
        "    break"
      ],
      "metadata": {
        "id": "yKHVQpGbxGc7",
        "outputId": "b19dd631-5c72-498f-ba4a-118fcb477f2e",
        "colab": {
          "base_uri": "https://localhost:8080/"
        }
      },
      "execution_count": null,
      "outputs": [
        {
          "output_type": "stream",
          "name": "stdout",
          "text": [
            "Line number 1 with analogy : capital-common-countries\n",
            "\n",
            "Line number 2 with analogy Athens Greece Baghdad Iraq\n",
            "\n",
            "Line number 3 with analogy Athens Greece Berlin Germany\n",
            "\n",
            "Line number 4 with analogy Athens Greece Cairo Egypt\n",
            "\n",
            "Line number 5 with analogy Athens Greece Canberra Australia\n",
            "\n"
          ]
        }
      ]
    },
    {
      "cell_type": "markdown",
      "source": [
        "👋 ⚒ Systematically evaluate this simple word embedding model based on the entire analogy dataset. To do this:\n",
        "\n",
        "\n",
        "*   Use the analogy function from Tutorial 3 to obtain 'd'\n",
        "*   Compare 'd' with the true result from the `HomeExercise1.txt` file\n",
        "*   Calculate the accuracy for all analogies (how many times out of all attempts did the embedding model provide the correct result)\n",
        "*   Calculate the accuracy for each analogy category separately\n",
        "\n",
        "When parsing the file, pay attention to the lines indicated with the colon : that represent the analogy categories and not analogies.\n"
      ],
      "metadata": {
        "id": "a3xklUvEXbd1"
      }
    },
    {
      "cell_type": "code",
      "source": [
        "# Your code here\n",
        "# Example: Athens is to Greece as Baghdar is to ?\n",
        "# True result from file: Iraq\n",
        "# Model result also Iraq?\n",
        "\n",
        "def analogy(a,b,c):\n",
        "  result = model.most_similar(positive=[b,c], negative=[a])\n",
        "  return result [0][0]\n",
        "\n",
        "#calculate accuracy for all analogies by iterating through data\n",
        "#calculate the accuracy for each analogy category\n",
        "total_results = 0\n",
        "correct_results = 0\n",
        "total_categories = {}\n",
        "correct_categories = {}\n",
        "\n",
        "current_category = None\n",
        "\n",
        "for line in analogy_lines:\n",
        "    line = line.strip()\n",
        "    if line.startswith(\":\"):\n",
        "        current_category = line[1:].strip()\n",
        "        total_categories[current_category] = 0\n",
        "        correct_categories[current_category] = 0\n",
        "    else:\n",
        "        words = line.split()\n",
        "        if len(words) == 4:\n",
        "            a, b, c, true_result = words\n",
        "            predicted_result = analogy(a, b, c)\n",
        "\n",
        "            total_results += 1\n",
        "            total_categories[current_category] += 1\n",
        "\n",
        "            if predicted_result == true_result:\n",
        "                correct_results += 1\n",
        "                correct_categories[current_category] += 1\n",
        "\n",
        "#Calculate accuracy for everything\n",
        "overall_accuracy = correct_results / total_results if total_results > 0 else 0\n",
        "\n",
        "#Calculate accuracy each analogy category\n",
        "category_accuracy = {category: (correct_categories[category] / total_categories[category] if total_categories[category] > 0 else 0)\n",
        "                     for category in total_categories}\n",
        "\n",
        "print(f\"Overall Accuracy: {overall_accuracy * 100:.2f}%\")\n",
        "for category in category_accuracy:\n",
        "    print(f\"Accuracy for {category}: {category_accuracy[category] * 100:.2f}%\")\n",
        "\n"
      ],
      "metadata": {
        "id": "knGLoU0kXaZb",
        "colab": {
          "base_uri": "https://localhost:8080/"
        },
        "outputId": "505fb7f2-c85d-48ec-a39b-35f6b959d034"
      },
      "execution_count": null,
      "outputs": [
        {
          "output_type": "stream",
          "name": "stdout",
          "text": [
            "Overall Accuracy: 75.45%\n",
            "Accuracy for capital-common-countries: 87.14%\n",
            "Accuracy for capital-world: 89.56%\n",
            "Accuracy for currency: 0.00%\n",
            "Accuracy for city-in-state: 78.72%\n",
            "Accuracy for family: 92.86%\n",
            "Accuracy for gram1-adjective-to-adverb: 30.30%\n",
            "Accuracy for gram2-opposite: 53.56%\n",
            "Accuracy for gram3-comparative: 91.22%\n",
            "Accuracy for gram4-superlative: 87.87%\n",
            "Accuracy for gram5-present-participle: 77.52%\n",
            "Accuracy for gram6-nationality-adjective: 95.90%\n",
            "Accuracy for gram7-past-tense: 69.14%\n",
            "Accuracy for gram8-plural: 87.32%\n",
            "Accuracy for gram9-plural-verbs: 68.00%\n"
          ]
        }
      ]
    },
    {
      "cell_type": "markdown",
      "source": [
        "## **Comparison: GloVe Analogy-based Evaluation**"
      ],
      "metadata": {
        "id": "bM-lxrQV15lF"
      }
    },
    {
      "cell_type": "markdown",
      "source": [
        "The next step will consist of comparing this very small word2vec embedding model with a different small but more powerfull model available in gensim.\n",
        "\n",
        "All models and corpora available in gensim can be found [here](https://github.com/piskvorky/gensim-data).\n",
        "\n",
        "Since this model is considerably bigger than the tiny word2vec model, it takes some time to load when you run the following code cell."
      ],
      "metadata": {
        "id": "KN5pGa7JzT9T"
      }
    },
    {
      "cell_type": "code",
      "source": [
        "import gensim.downloader as api\n",
        "from gensim.models import KeyedVectors\n",
        "\n",
        "model_glove = api.load(\"glove-wiki-gigaword-100\")\n",
        "print(type(model))"
      ],
      "metadata": {
        "id": "noalz14AzkQR",
        "colab": {
          "base_uri": "https://localhost:8080/"
        },
        "outputId": "154431ba-8093-41ed-9aec-f1b0998150a6"
      },
      "execution_count": null,
      "outputs": [
        {
          "output_type": "stream",
          "name": "stdout",
          "text": [
            "<class 'gensim.models.keyedvectors.KeyedVectors'>\n"
          ]
        }
      ]
    },
    {
      "cell_type": "markdown",
      "source": [
        "The model can then be used exactly the same as the word2vec model, since gensim standardizes model access."
      ],
      "metadata": {
        "id": "kEWEOytj0hrC"
      }
    },
    {
      "cell_type": "code",
      "source": [
        "model_glove[\"bread\"]"
      ],
      "metadata": {
        "id": "NmyLiSoF0s0e",
        "colab": {
          "base_uri": "https://localhost:8080/"
        },
        "outputId": "3b77a596-472e-49bb-b498-cea5f03f1ac2"
      },
      "execution_count": null,
      "outputs": [
        {
          "output_type": "execute_result",
          "data": {
            "text/plain": [
              "array([-0.66146  ,  0.94335  , -0.72214  ,  0.17403  , -0.42524  ,\n",
              "        0.36303  ,  1.0135   , -0.14802  ,  0.25817  , -0.20326  ,\n",
              "       -0.64338  ,  0.16632  ,  0.61518  ,  1.397    , -0.094506 ,\n",
              "        0.0041843, -0.18976  , -0.55421  , -0.39371  , -0.22501  ,\n",
              "       -0.34643  ,  0.32076  ,  0.34395  , -0.7034   ,  0.23932  ,\n",
              "        0.69951  , -0.16461  , -0.31819  , -0.34034  , -0.44906  ,\n",
              "       -0.069667 ,  0.35348  ,  0.17498  , -0.95057  , -0.2209   ,\n",
              "        1.0647   ,  0.23231  ,  0.32569  ,  0.47662  , -1.1206   ,\n",
              "        0.28168  , -0.75172  , -0.54654  , -0.66337  ,  0.34804  ,\n",
              "       -0.69058  , -0.77092  , -0.40167  , -0.069351 , -0.049238 ,\n",
              "       -0.39351  ,  0.16735  , -0.14512  ,  1.0083   , -1.0608   ,\n",
              "       -0.87314  , -0.29339  ,  0.68278  ,  0.61634  , -0.088844 ,\n",
              "        0.88094  ,  0.099809 , -0.27161  , -0.58026  ,  0.50364  ,\n",
              "       -0.93814  ,  0.67576  , -0.43124  , -0.10517  , -1.2404   ,\n",
              "       -0.74353  ,  0.28637  ,  0.29012  ,  0.89377  ,  0.67406  ,\n",
              "        0.86422  , -0.30693  , -0.14718  ,  0.078353 ,  0.74013  ,\n",
              "        0.32658  , -0.052579 , -1.1665   ,  0.87079  , -0.69402  ,\n",
              "       -0.75977  , -0.37164  , -0.11887  ,  0.18551  ,  0.041883 ,\n",
              "        0.59352  ,  0.30519  , -0.54819  , -0.29424  , -1.4912   ,\n",
              "       -1.6548   ,  0.98982  ,  0.27325  ,  1.009    ,  0.94544  ],\n",
              "      dtype=float32)"
            ]
          },
          "metadata": {},
          "execution_count": 19
        }
      ]
    },
    {
      "cell_type": "markdown",
      "source": [
        "👋 ⚒  Run the same systematic analysis for this gensim model as for the word2vec model above. Which model performs better overall and in specific categories?"
      ],
      "metadata": {
        "id": "N-eMSsyO1PMZ"
      }
    },
    {
      "cell_type": "code",
      "source": [
        "# Your code here\n",
        "total_results_word2vec = 0\n",
        "correct_results_word2vec = 0\n",
        "total_categories_word2vec = {}\n",
        "correct_categories_word2vec = {}\n",
        "\n",
        "current_category = None\n",
        "\n",
        "for line in analogy_lines:\n",
        "  line = line.strip()\n",
        "  if line.startswith(\":\"):\n",
        "    current_category = line[1:].strip()\n",
        "    total_categories_word2vec[current_category] = 0\n",
        "    correct_categories_word2vec[current_category] = 0\n",
        "  else:\n",
        "    words = line.split()\n",
        "    if len(words) == 4:\n",
        "      a, b, c, true_result = words\n",
        "      predicted_result = analogy(a, b, c)\n",
        "\n",
        "      total_results_word2vec += 1\n",
        "      total_categories_word2vec[current_category] += 1\n",
        "\n",
        "      if predicted_result == true_result:\n",
        "        correct_results_word2vec += 1\n",
        "        correct_categories_word2vec[current_category] += 1\n",
        "\n",
        "overall_accuracy_word2vec = correct_results_word2vec / total_results_word2vec if total_results_word2vec > 0 else 0\n",
        "\n",
        "category_accuracy_word2vec = {category: (correct_categories_word2vec[category] / total_categories_word2vec[category] if total_categories_word2vec[category] > 0 else 0)\n",
        "for category in total_categories_word2vec}\n",
        "\n",
        "print(f\"Word2Vec Model Overall Accuracy: {overall_accuracy_word2vec * 100:.2f}%\")\n",
        "for category in category_accuracy_word2vec:\n",
        "  print(f\"Accuracy for {category}: {category_accuracy_word2vec[category] * 100:.2f}%\")\n",
        "\n",
        "\n"
      ],
      "metadata": {
        "id": "dZk0eA3B1ZSV",
        "colab": {
          "base_uri": "https://localhost:8080/"
        },
        "outputId": "b8c0afb9-63a2-4d62-f9a5-427f301900f7"
      },
      "execution_count": null,
      "outputs": [
        {
          "output_type": "stream",
          "name": "stdout",
          "text": [
            "Word2Vec Model Overall Accuracy: 75.45%\n",
            "Accuracy for capital-common-countries: 87.14%\n",
            "Accuracy for capital-world: 89.56%\n",
            "Accuracy for currency: 0.00%\n",
            "Accuracy for city-in-state: 78.72%\n",
            "Accuracy for family: 92.86%\n",
            "Accuracy for gram1-adjective-to-adverb: 30.30%\n",
            "Accuracy for gram2-opposite: 53.56%\n",
            "Accuracy for gram3-comparative: 91.22%\n",
            "Accuracy for gram4-superlative: 87.87%\n",
            "Accuracy for gram5-present-participle: 77.52%\n",
            "Accuracy for gram6-nationality-adjective: 95.90%\n",
            "Accuracy for gram7-past-tense: 69.14%\n",
            "Accuracy for gram8-plural: 87.32%\n",
            "Accuracy for gram9-plural-verbs: 68.00%\n"
          ]
        }
      ]
    },
    {
      "cell_type": "markdown",
      "source": [
        "## **Visual Comparison**\n",
        "\n",
        "As a final step, use the visualization from Tutorial 3 to visually output the two models based on the following words."
      ],
      "metadata": {
        "id": "r1b7CPN-2Clq"
      }
    },
    {
      "cell_type": "markdown",
      "source": [
        "👋 ⚒  ❓ Do the clusters (groupings of embeddings) in the GloVe visualization differ substantially from the clusters in the word2vec visualization from Tutorial 3?\n",
        "\n",
        "❗Yes, the cluster in the two visualizations differ, although they do share many similarities.\n",
        "While GloVe gorups foods and drinks more closely together, word2vec places them further apart (and on the other side of the plot). Both models out water in the center.\n",
        "GloVe clusters all animals, whil word2vec spreads them out more.\n",
        "Both models cluster countries, but in different regions of the plot.\n",
        "Word2vec places educational institutions closer to countries."
      ],
      "metadata": {
        "id": "QWg0FNJG1aY6"
      }
    },
    {
      "cell_type": "code",
      "source": [
        "import numpy as np\n",
        "\n",
        "from sklearn.decomposition import PCA\n",
        "from matplotlib import pyplot as plt\n",
        "\n",
        "def display_pca_scatterplot(model, words):\n",
        "\n",
        "    word_vectors = np.array([model[w] for w in words])\n",
        "\n",
        "    twodim = PCA().fit_transform(word_vectors)[:,:2]\n",
        "\n",
        "    plt.figure(figsize=(6,6))\n",
        "    plt.scatter(twodim[:,0], twodim[:,1], edgecolors='k', c='r')\n",
        "    for word, (x,y) in zip(words, twodim):\n",
        "        plt.text(x+0.05, y+0.05, word)\n",
        "    plt.show()"
      ],
      "metadata": {
        "id": "WaHuaINH2UJF"
      },
      "execution_count": null,
      "outputs": []
    },
    {
      "cell_type": "code",
      "source": [
        "display_pca_scatterplot(model_glove,\n",
        "                        ['coffee', 'tea', 'beer', 'wine', 'water',\n",
        "                         'hamburger', 'pizza',  'sushi', 'meatballs',\n",
        "                         'dog', 'horse', 'cat', 'monkey', 'parrot', 'lizard',\n",
        "                         'france', 'germany', 'hungary',\n",
        "                         'school', 'college', 'university', 'institute'])"
      ],
      "metadata": {
        "id": "h5C4yZsN2lAa",
        "colab": {
          "base_uri": "https://localhost:8080/",
          "height": 523
        },
        "outputId": "d2eef5cd-0e1e-4213-e559-e1902a5236ac"
      },
      "execution_count": null,
      "outputs": [
        {
          "output_type": "display_data",
          "data": {
            "text/plain": [
              "<Figure size 600x600 with 1 Axes>"
            ],
            "image/png": "[encoded data removed]"
          },
          "metadata": {}
        }
      ]
    },
    {
      "cell_type": "markdown",
      "source": [
        "**Provide your answer to the question on the clusters here.**"
      ],
      "metadata": {
        "id": "lbxcCxRB4Rvo"
      }
    },
    {
      "cell_type": "code",
      "source": [
        "display_pca_scatterplot(model_word2vec,\n",
        "                        ['coffee', 'tea', 'beer', 'wine', 'water',\n",
        "                         'hamburger', 'pizza',  'sushi', 'meatballs',\n",
        "                         'dog', 'horse', 'cat', 'monkey', 'parrot', 'lizard',\n",
        "                         'France', 'Germany', 'Hungary',\n",
        "                         'school', 'college', 'university', 'institute'])"
      ],
      "metadata": {
        "colab": {
          "base_uri": "https://localhost:8080/",
          "height": 524
        },
        "id": "uiJFLvuGxTxn",
        "outputId": "19b6bdc2-9fe2-48d4-8bfd-e28298c5138e"
      },
      "execution_count": null,
      "outputs": [
        {
          "output_type": "display_data",
          "data": {
            "text/plain": [
              "<Figure size 600x600 with 1 Axes>"
            ],
            "image/png": "[encoded data removed]"
          },
          "metadata": {}
        }
      ]
    },
    {
      "cell_type": "markdown",
      "source": [],
      "metadata": {
        "id": "tV4zLFzHyEhs"
      }
    },
    {
      "cell_type": "markdown",
      "source": [
        "## **Bias in Embeddings**\n",
        "\n",
        "Language models and also embedding models tend to reflect on bias that is present in the textual data they were trained on. This can also be analyzed with embeddings by explicitly testing biased analogies.\n",
        "\n",
        "For instance, man is to doctor as woman is to ?\n",
        "\n",
        "The bias here is that professions tend to be assigned a specific gender, e.g. men are doctors and women are nurses.\n",
        "\n",
        "The same is true for cultures and cultural bias, e.g. Bratwurst or Sauerkraut and Germany.\n",
        "\n"
      ],
      "metadata": {
        "id": "fR022k6924H8"
      }
    },
    {
      "cell_type": "code",
      "source": [
        "result1 = model_glove.most_similar(positive=[\"doctor\", \"woman\"], negative=[\"man\"], topn=3)\n",
        "print(f\"man is to doctor as woman is to {result1}\")\n",
        "result2 = model_glove.most_similar(positive=[\"bratwurst\", \"france\"], negative=[\"germany\"], topn=3)\n",
        "print(f\"Germany is to Bratwurst as France is to {result2}\")"
      ],
      "metadata": {
        "id": "bdEoibPg4Ylz",
        "colab": {
          "base_uri": "https://localhost:8080/"
        },
        "outputId": "6a2be6c6-032f-48d3-98dd-3298250e0dab"
      },
      "execution_count": null,
      "outputs": [
        {
          "output_type": "stream",
          "name": "stdout",
          "text": [
            "man is to doctor as woman is to [('nurse', 0.7735227942466736), ('physician', 0.7189430594444275), ('doctors', 0.6824328303337097)]\n",
            "Germany is to Bratwurst as France is to [('bouillabaisse', 0.5761943459510803), ('foie', 0.5738863945007324), ('consomme', 0.5617873668670654)]\n"
          ]
        }
      ]
    },
    {
      "cell_type": "markdown",
      "source": [
        "👋 ⚒ Try to come up with two biased analogies yourself and test if the GloVe and word2vec models suffers from this type of bias. Please try to be creative and do not just change woman to girl and man to boy or something similar."
      ],
      "metadata": {
        "id": "9S2HoyVE7hL0"
      }
    },
    {
      "cell_type": "code",
      "source": [
        "# Test your biased analogies on both models here\n",
        "my_result1 = model_glove.most_similar(positive=[\"tacos\", \"italy\"], negative=[\"mexico\"], topn=3)\n",
        "print(f\"Mexico is to tacos as Italy is to {my_result1}\")\n",
        "my_result2 = model_glove.most_similar(positive=[\"mother\", \"man\"], negative=[\"woman\"], topn=3)\n",
        "print(f\"woman is to mother as man is to {my_result2}\")"
      ],
      "metadata": {
        "id": "IVvhsv5u7wHA",
        "colab": {
          "base_uri": "https://localhost:8080/"
        },
        "outputId": "76efa840-1cbd-4ff1-e786-73f3fb823e8f"
      },
      "execution_count": null,
      "outputs": [
        {
          "output_type": "stream",
          "name": "stdout",
          "text": [
            "Mexico is to tacos as Italy is to [('burritos', 0.6404871940612793), ('sandwiches', 0.63211590051651), ('sausages', 0.62088543176651)]\n",
            "woman is to mother as man is to [('father', 0.8926023244857788), ('brother', 0.853111982345581), ('son', 0.8221226334571838)]\n"
          ]
        }
      ]
    }
  ]
}