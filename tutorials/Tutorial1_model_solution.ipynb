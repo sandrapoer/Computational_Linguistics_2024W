{
  "nbformat": 4,
  "nbformat_minor": 0,
  "metadata": {
    "colab": {
      "provenance": [],
      "include_colab_link": true
    },
    "kernelspec": {
      "name": "python3",
      "display_name": "Python 3"
    }
  },
  "cells": [
    {
      "cell_type": "markdown",
      "metadata": {
        "id": "view-in-github",
        "colab_type": "text"
      },
      "source": [
        "<a href=\"https://colab.research.google.com/github/dgromann/cl_intro_ws2024/blob/main/tutorials/Tutorial1_model_solution.ipynb\" target=\"_parent\"><img src=\"https://colab.research.google.com/assets/colab-badge.svg\" alt=\"Open In Colab\"/></a>"
      ]
    },
    {
      "cell_type": "markdown",
      "source": [
        "# Tutorial 1: Introduction to Computational Linguistics\n",
        "\n",
        "This is the first tutorial with practical exercises for the lecture *Introduction to Computational Linguistics* in the winter semester 2024. Hands-on exercises are marked with 👋 ⚒ and questions are marked with ❓."
      ],
      "metadata": {
        "id": "N4_fSCGEAFZ3"
      }
    },
    {
      "metadata": {
        "id": "ZvZfzSn7bXVl"
      },
      "cell_type": "markdown",
      "source": [
        "## **Store this notebook**\n",
        "\n",
        "Go to **File** and make sure you store this file as a local copy to either your GitHub or Google Drive. If you do not have a Google account and also do not want to create one, please check Option C below."
      ]
    },
    {
      "metadata": {
        "id": "K7PUvU1f4H7C"
      },
      "cell_type": "markdown",
      "source": [
        "\n",
        "## Option A)  Google Drive\n",
        "\n",
        "Go to the menu **File** and click on **Save a Copy in Drive**. The advantage of this option is that your changes in the notebook will be saved regularly. If you wish to move the file to a specific folder, click on **Move** and the select the corresponding folder in your Google Drive.\n"
      ]
    },
    {
      "metadata": {
        "id": "yVnqNjmt4O3y"
      },
      "cell_type": "markdown",
      "source": [
        "## Option B) GitHub\n",
        "\n",
        "\n",
        "Go to the menu **File** and click on **Save a Copy in GitHub**, select the repository on your GitHub account to which you wish to push the Colab notebook. Note that this option does not automatically save changes in your Colab notebook."
      ]
    },
    {
      "metadata": {
        "id": "3GhgHq-n4hZX"
      },
      "cell_type": "markdown",
      "source": [
        "## Option C) Download this notebook as ipynb (Jupyter notebook) or py (Python file)\n",
        "\n",
        "To run this notebook as Jupyter notebook or Python file on your local machine, Python and NLTK need to be installed. Within the course of the semester several more local installations will be required.  \n",
        "\n",
        "To run a Jupyter notebook the easiest option is to install [Anacadonda](https://www.anaconda.com/). A Python file can be run directly from the command line or in an Integrated Development Environment (IDE), such as [PyCharm](https://www.jetbrains.com/de-de/pycharm/)."
      ]
    },
    {
      "metadata": {
        "id": "jHzL2Qjivc0N"
      },
      "cell_type": "markdown",
      "source": [
        "-----------\n",
        "\n",
        "## **Lesson 0.0: Hello World**\n",
        "👋 ⚒\n",
        "1. Create a Code cell by clicking on **+ Code** below the main menu.\n",
        "1. Write a command that prints the string \"Hello world!\".\n",
        "\n",
        "```\n",
        "#for example\n",
        "print(\"Dagmar says \\\"Hello\\\"!\")\n",
        "```\n",
        "\n",
        "4. Go to the code cell and click the **play** button, which is only visible when you move your cursor to the code cell.\n",
        "    \n",
        "\n",
        "\n"
      ]
    },
    {
      "metadata": {
        "id": "1FdcGIjPuBYP"
      },
      "cell_type": "markdown",
      "source": [
        "-----------\n",
        "## **Lesson 1: Simple Variables and Operations**\n",
        "Python is a programming language that uses indentation to structure statements into blocks, instead of brackets.\n",
        "\n",
        "\n",
        "👋 ⚒ Change the example below so that it can run correctly.\n",
        "\n"
      ]
    },
    {
      "metadata": {
        "id": "nF_cL6UMusZG",
        "outputId": "369088e9-218a-4556-ee51-fec06a2322d7",
        "colab": {
          "base_uri": "https://localhost:8080/"
        }
      },
      "cell_type": "code",
      "source": [
        "# Exercise: what needs to be corrected so that the following code runs correctly?\n",
        "x = 1\n",
        "if x == 1:\n",
        "  print(\"x is 1.\")"
      ],
      "execution_count": 2,
      "outputs": [
        {
          "output_type": "stream",
          "name": "stdout",
          "text": [
            "x is 1.\n"
          ]
        }
      ]
    },
    {
      "metadata": {
        "id": "mC68rLi-u_KX"
      },
      "cell_type": "markdown",
      "source": [
        "Variables and types in Python are very similar to other programming languages. Run the examples below to see what happens.\n",
        "\n",
        "❓ What happens in the command `int(my_float)`? Type conversion: converst the float to an integer"
      ]
    },
    {
      "metadata": {
        "id": "SPtFMmfM10BY",
        "cellView": "code",
        "outputId": "776409df-a746-4a61-b00b-f63c68db2fee",
        "colab": {
          "base_uri": "https://localhost:8080/"
        }
      },
      "cell_type": "code",
      "source": [
        "# Integer\n",
        "my_int = 7\n",
        "print(my_int)\n",
        "\n",
        "# Float\n",
        "my_float = 7.0\n",
        "print(my_float)\n",
        "\n",
        "# String\n",
        "my_string = \"Computational Linguistics\"\n",
        "print(my_string)\n",
        "\n",
        "# What happens here?\n",
        "my_float = int(my_float)\n",
        "print(my_float)"
      ],
      "execution_count": 3,
      "outputs": [
        {
          "output_type": "stream",
          "name": "stdout",
          "text": [
            "7\n",
            "7.0\n",
            "Computational Linguistics\n",
            "7\n"
          ]
        }
      ]
    },
    {
      "cell_type": "markdown",
      "source": [
        "👋 ⚒ Follow the instructions in the following code cells and perform the exercises."
      ],
      "metadata": {
        "id": "LlDG3YcL9Gke"
      }
    },
    {
      "metadata": {
        "id": "gYYr9z-eEjS4",
        "outputId": "3c9ad104-f0a4-4827-ed15-50161c82986e",
        "colab": {
          "base_uri": "https://localhost:8080/"
        }
      },
      "cell_type": "code",
      "source": [
        "# Exercise: Run 12/(4+3) and 3*3 and print the results of both operations\n",
        "print(12/(4+3))\n",
        "print(3*3)"
      ],
      "execution_count": 4,
      "outputs": [
        {
          "output_type": "stream",
          "name": "stdout",
          "text": [
            "1.7142857142857142\n",
            "9\n"
          ]
        }
      ]
    },
    {
      "metadata": {
        "id": "Yi8qazw5Emp4",
        "outputId": "dc7f1380-3d37-4e24-f49e-3bb6c825dfc5",
        "colab": {
          "base_uri": "https://localhost:8080/"
        }
      },
      "cell_type": "code",
      "source": [
        "# Exercise: Print the variable my_string three times without repeating the variable itself\n",
        "print(my_string*3)"
      ],
      "execution_count": 5,
      "outputs": [
        {
          "output_type": "stream",
          "name": "stdout",
          "text": [
            "Computational LinguisticsComputational LinguisticsComputational Linguistics\n"
          ]
        }
      ]
    },
    {
      "metadata": {
        "id": "5Oz_liBoEhTJ",
        "outputId": "9539df1b-7d91-4a81-f635-9b4e3c1ae450",
        "colab": {
          "base_uri": "https://localhost:8080/"
        }
      },
      "cell_type": "code",
      "source": [
        "# Some additional operators\n",
        "print(\"remainder = \", 11 % 3)\n",
        "print(\"squared = \", 11 ** 2)\n",
        "print(\"cubed = \", 11 ** 3)"
      ],
      "execution_count": 6,
      "outputs": [
        {
          "output_type": "stream",
          "name": "stdout",
          "text": [
            "remainder =  2\n",
            "squared =  121\n",
            "cubed =  1331\n"
          ]
        }
      ]
    },
    {
      "metadata": {
        "id": "DOgOijM74rqf"
      },
      "cell_type": "markdown",
      "source": [
        "Strings can not only be multiplied but also concatenated. Let's look at some additional string operations."
      ]
    },
    {
      "metadata": {
        "id": "Sj8ut_tk9Cwg",
        "outputId": "24229376-9091-4444-b386-00efaeaea045",
        "colab": {
          "base_uri": "https://localhost:8080/"
        }
      },
      "cell_type": "code",
      "source": [
        "# String concatenation\n",
        "first = \"first\"\n",
        "second = \"second\"\n",
        "third = first + \" \" + second\n",
        "print(third)\n",
        "\n",
        "one_more = \"Don't worry about apostrophes\"\n",
        "print(one_more)"
      ],
      "execution_count": 7,
      "outputs": [
        {
          "output_type": "stream",
          "name": "stdout",
          "text": [
            "first second\n",
            "Don't worry about apostrophes\n"
          ]
        }
      ]
    },
    {
      "cell_type": "code",
      "source": [
        "# Several variables can be initialized at the same time\n",
        "a,b = 1,2\n",
        "print(\"Initializing and printing: \",a,b,a+b)"
      ],
      "metadata": {
        "id": "cYK9TgmVEcFd",
        "outputId": "aa8fe5a2-1e61-4349-b931-52b642719439",
        "colab": {
          "base_uri": "https://localhost:8080/"
        }
      },
      "execution_count": 8,
      "outputs": [
        {
          "output_type": "stream",
          "name": "stdout",
          "text": [
            "Initializing and printing:  1 2 3\n"
          ]
        }
      ]
    },
    {
      "metadata": {
        "id": "VRIR23C6E7jr"
      },
      "cell_type": "code",
      "source": [
        "# Different types of variables cannot be concatenated directly\n",
        "print(\"This does not work: \", first + a + b)\n",
        "print(\"This works: \", first, a, b)"
      ],
      "execution_count": null,
      "outputs": []
    },
    {
      "cell_type": "markdown",
      "source": [
        "👋 ⚒ Create a variable that combines the string **first** with the variable **a** to obtain \"first1\"."
      ],
      "metadata": {
        "id": "Y-cBGyz6EVx_"
      }
    },
    {
      "cell_type": "code",
      "source": [
        "#Your code here\n",
        "new_a = first + str(a)\n",
        "print(new_a)"
      ],
      "metadata": {
        "id": "ncW9hIRbEzZH",
        "collapsed": true,
        "outputId": "e03a78bd-0360-410c-a940-6268c1b3ad55",
        "colab": {
          "base_uri": "https://localhost:8080/"
        }
      },
      "execution_count": 10,
      "outputs": [
        {
          "output_type": "stream",
          "name": "stdout",
          "text": [
            "first1\n"
          ]
        }
      ]
    },
    {
      "metadata": {
        "id": "_zG0OdiC_90W"
      },
      "cell_type": "markdown",
      "source": [
        "👋 ⚒ Change the following float, integer, and string in a way that all three are printed with the provided print statements.\n"
      ]
    },
    {
      "metadata": {
        "id": "2likxUgrAmZz",
        "outputId": "884473ea-f031-4b59-a3e7-cffcdb0ff38b",
        "colab": {
          "base_uri": "https://localhost:8080/"
        }
      },
      "cell_type": "code",
      "source": [
        "# Exercise: change the values of the three variables below so that their\n",
        "# values are printed by the test code\n",
        "mystring = \"hello\"\n",
        "myfloat = 10.0\n",
        "myint = 20\n",
        "\n",
        "# Test code\n",
        "if mystring == \"hello\":\n",
        "    print(\"String: %s \" % mystring)\n",
        "if isinstance(myfloat, float) and myfloat == 10.0:\n",
        "    print(\"Float: %f\" % myfloat)\n",
        "if isinstance(myint, int) and myint == 20:\n",
        "    print(\"Integer: %d\" % myint)"
      ],
      "execution_count": 15,
      "outputs": [
        {
          "output_type": "stream",
          "name": "stdout",
          "text": [
            "String: hello \n",
            "Float: 10.000000\n",
            "Integer: 20\n"
          ]
        }
      ]
    },
    {
      "metadata": {
        "id": "V2H8t7u_opFk"
      },
      "cell_type": "markdown",
      "source": [
        "👋 ⚒ Print the length of the string `my_string`"
      ]
    },
    {
      "metadata": {
        "id": "YIimnHZYoxV_",
        "outputId": "d94562a1-8186-4c00-ddaf-6b1b0e44d0c4",
        "colab": {
          "base_uri": "https://localhost:8080/"
        }
      },
      "cell_type": "code",
      "source": [
        "# Length\n",
        "my_string = \"Introduction to Computational Linguistics\"\n",
        "print(len(my_string))"
      ],
      "execution_count": 16,
      "outputs": [
        {
          "output_type": "stream",
          "name": "stdout",
          "text": [
            "41\n"
          ]
        }
      ]
    },
    {
      "cell_type": "markdown",
      "source": [
        "👋 ⚒ Get the letter on the third position of `my_string`"
      ],
      "metadata": {
        "id": "KVi5uqjswj5O"
      }
    },
    {
      "cell_type": "code",
      "source": [
        "# Indexing\n",
        "print(my_string[2])"
      ],
      "metadata": {
        "id": "AWcdcXmtwmI_",
        "outputId": "1d643ba1-866e-4c7f-b314-b7de81a2a757",
        "colab": {
          "base_uri": "https://localhost:8080/"
        }
      },
      "execution_count": 17,
      "outputs": [
        {
          "output_type": "stream",
          "name": "stdout",
          "text": [
            "t\n"
          ]
        }
      ]
    },
    {
      "cell_type": "markdown",
      "source": [
        "👋 ⚒ Slice `my_string` so that you only obtain \"Intro\" in one single line"
      ],
      "metadata": {
        "id": "58Y1nq_1wItR"
      }
    },
    {
      "cell_type": "code",
      "source": [
        "# Slicing\n",
        "print(my_string[:5])"
      ],
      "metadata": {
        "id": "DOvzA1Fpw0-u",
        "outputId": "bde1f979-9b38-4f5b-b4b2-d6c3bffce0a7",
        "colab": {
          "base_uri": "https://localhost:8080/"
        }
      },
      "execution_count": 18,
      "outputs": [
        {
          "output_type": "stream",
          "name": "stdout",
          "text": [
            "Intro\n"
          ]
        }
      ]
    },
    {
      "cell_type": "markdown",
      "source": [
        "Further useful string operations."
      ],
      "metadata": {
        "id": "eC3KbcgYw3O7"
      }
    },
    {
      "metadata": {
        "id": "6q3_LaidqWup",
        "outputId": "7048a95c-208e-4438-8769-033914862c64",
        "colab": {
          "base_uri": "https://localhost:8080/"
        }
      },
      "cell_type": "code",
      "source": [
        "print(\"Length of a string: \", len(my_string))\n",
        "print(\"Counting letter 'i': \", my_string.count(\"i\"))\n",
        "\n",
        "print(\"Lower casing \", my_string.lower())\n",
        "print(\"Upper casing \", my_string.upper())\n",
        "print(\"Check for start \", my_string.startswith(\"Introduction\"))\n",
        "print(\"Check for ending \", my_string.endswith(\"s\"), my_string.endswith(\"a\"), my_string.endswith(\"Linguistics\"))\n",
        "\n",
        "print(\"Splitting the string based on blank space creates a list\", my_string.split(\" \"))\n"
      ],
      "execution_count": 19,
      "outputs": [
        {
          "output_type": "stream",
          "name": "stdout",
          "text": [
            "Length of a string:  41\n",
            "Counting letter 'i':  5\n",
            "Lower casing  introduction to computational linguistics\n",
            "Upper casing  INTRODUCTION TO COMPUTATIONAL LINGUISTICS\n",
            "Check for start  True\n",
            "Check for ending  True False True\n",
            "Splitting the string based on blank space creates a list ['Introduction', 'to', 'Computational', 'Linguistics']\n"
          ]
        }
      ]
    },
    {
      "cell_type": "markdown",
      "source": [
        "👋 ⚒ Try out the string operations in the following exercises."
      ],
      "metadata": {
        "id": "M5rBvDP_DB9K"
      }
    },
    {
      "metadata": {
        "id": "Oa1-iFaLrA1c",
        "outputId": "94aea642-eb50-476c-a107-236741edaab8",
        "colab": {
          "base_uri": "https://localhost:8080/"
        }
      },
      "cell_type": "code",
      "source": [
        "tester = \"Hey there! What should this string be?\"\n",
        "\n",
        "# Exercise: Calculate the lenght of the string tester\n",
        "print(\"Length of s = %d\" % len(tester))\n",
        "\n",
        "# First occurrence of \"a\" should be at index 13\n",
        "print(\"The first occurrence of the letter a = %d\" % tester.index(\"a\"))\n",
        "\n",
        "# Exercise: count the number of times \"a\" occurs in the string tester\n",
        "print(\"a occurs %d times\" % tester.count(\"a\"))\n",
        "\n",
        "# Exercise: Ensure the string starts with \"Hey\"\n",
        "if tester.startswith(\"Hey\"):\n",
        "    print(\"String starts with 'Hey'. Good!\")"
      ],
      "execution_count": 22,
      "outputs": [
        {
          "output_type": "stream",
          "name": "stdout",
          "text": [
            "Length of s = 38\n",
            "The first occurrence of the letter a = 13\n",
            "a occurs 1 times\n",
            "String starts with 'Hey'. Good!\n"
          ]
        }
      ]
    },
    {
      "cell_type": "markdown",
      "source": [
        "----------\n",
        "## **Lesson 2: Collections**\n",
        "\n",
        "Python has several built-in types that are useful for storing and manipulating data: list, tuple, dict. Here is the official Python documentation on these types (and many others): https://docs.python.org/3/library/stdtypes.html.\n"
      ],
      "metadata": {
        "id": "w0haUFZ8_K2j"
      }
    },
    {
      "cell_type": "markdown",
      "source": [
        "## Lists\n",
        "\n",
        "Lists are a type of array."
      ],
      "metadata": {
        "id": "7eJ_dFGE_0a4"
      }
    },
    {
      "cell_type": "code",
      "source": [
        "branches = [\"phonetics\", \"phonology\"]"
      ],
      "metadata": {
        "id": "qCs_0Ayn_zzq"
      },
      "execution_count": 25,
      "outputs": []
    },
    {
      "cell_type": "code",
      "source": [
        "# Access element list by index\n",
        "print(branches[0])"
      ],
      "metadata": {
        "id": "IF8vDuNTAVVf",
        "outputId": "121ef2b6-7478-4370-bf4a-835664a6ccb5",
        "colab": {
          "base_uri": "https://localhost:8080/"
        }
      },
      "execution_count": 26,
      "outputs": [
        {
          "output_type": "stream",
          "name": "stdout",
          "text": [
            "phonetics\n"
          ]
        }
      ]
    },
    {
      "cell_type": "code",
      "source": [
        "# Append to list adds elements at the end of the list\n",
        "branches.append(\"morphology\")\n",
        "print(branches)"
      ],
      "metadata": {
        "id": "M7gYTvG0Aadc",
        "outputId": "6c73d747-4781-40f7-e906-f8a05e74890c",
        "colab": {
          "base_uri": "https://localhost:8080/"
        }
      },
      "execution_count": 27,
      "outputs": [
        {
          "output_type": "stream",
          "name": "stdout",
          "text": [
            "['phonetics', 'phonology', 'morphology']\n"
          ]
        }
      ]
    },
    {
      "cell_type": "code",
      "source": [
        "# Get length of list\n",
        "print(len(branches))"
      ],
      "metadata": {
        "id": "MPP9YKwbAiPQ",
        "outputId": "5ad51c3a-f3a4-4068-abb4-2e6db6a331b7",
        "colab": {
          "base_uri": "https://localhost:8080/"
        }
      },
      "execution_count": 28,
      "outputs": [
        {
          "output_type": "stream",
          "name": "stdout",
          "text": [
            "3\n"
          ]
        }
      ]
    },
    {
      "cell_type": "code",
      "source": [
        "# Count the number of times an element is in a list\n",
        "print(branches.count(\"phonology\"))"
      ],
      "metadata": {
        "id": "es_5-k0yB8Ga",
        "outputId": "31fd5fed-2fe3-42ca-ebad-5130fe87775f",
        "colab": {
          "base_uri": "https://localhost:8080/"
        }
      },
      "execution_count": 29,
      "outputs": [
        {
          "output_type": "stream",
          "name": "stdout",
          "text": [
            "1\n"
          ]
        }
      ]
    },
    {
      "cell_type": "code",
      "source": [
        "# Concatenate two lists\n",
        "# += operator is a short hand for list1 = list1 + list2 (can also be used for -, *, / and on other types of variables)\n",
        "branches += [\"semantics\", \"pragmatics\"]\n",
        "print(branches)"
      ],
      "metadata": {
        "id": "NjwD6wV8AnQ9",
        "outputId": "bad56079-2ec8-48c8-daf4-f2f182b376cf",
        "colab": {
          "base_uri": "https://localhost:8080/"
        }
      },
      "execution_count": 30,
      "outputs": [
        {
          "output_type": "stream",
          "name": "stdout",
          "text": [
            "['phonetics', 'phonology', 'morphology', 'semantics', 'pragmatics']\n"
          ]
        }
      ]
    },
    {
      "cell_type": "code",
      "source": [
        "# Create an empty list with two different options\n",
        "more_names = []\n",
        "more_names = list()"
      ],
      "metadata": {
        "id": "U2AuGq14A9XK"
      },
      "execution_count": 31,
      "outputs": []
    },
    {
      "cell_type": "code",
      "source": [
        "# Create a list that contains different data types, this is allowed in Python\n",
        "stuff = [3, [\"Hey\", \"there!\"], -0.31, None]\n",
        "print(stuff)"
      ],
      "metadata": {
        "id": "XdYw6svYA_Z8",
        "outputId": "acb7517b-746d-4d8b-92da-0d5c5fcc545f",
        "colab": {
          "base_uri": "https://localhost:8080/"
        }
      },
      "execution_count": 32,
      "outputs": [
        {
          "output_type": "stream",
          "name": "stdout",
          "text": [
            "[3, ['Hey', 'there!'], -0.31, None]\n"
          ]
        }
      ]
    },
    {
      "cell_type": "markdown",
      "source": [
        "👋 ⚒ Change **x_list**, **y_list**, and **big_list** so that the test code prints the provided statements."
      ],
      "metadata": {
        "id": "Rj-YZQqI9fFv"
      }
    },
    {
      "metadata": {
        "id": "jLMEOLeNFuCd"
      },
      "cell_type": "code",
      "source": [
        "x = \"try\"\n",
        "y = \"this\"\n",
        "\n",
        "# To change\n",
        "x_list = [x]\n",
        "y_list = [y]\n",
        "# big_list should be a combination of the two lists above\n",
        "big_list =\n",
        "\n",
        "print(\"x_list contains %d objects\" % len(x_list))\n",
        "print(\"y_list contains %d objects\" % len(y_list))\n",
        "print(\"big_list contains %d objects\" % len(big_list))\n",
        "\n",
        "# Test code\n",
        "if x_list.count(x) == 10 and y_list.count(y) == 10:\n",
        "    print(\"Almost there...\")\n",
        "if big_list.count(x) == 10 and big_list.count(y) == 10:\n",
        "    print(\"Great!\")"
      ],
      "execution_count": null,
      "outputs": []
    },
    {
      "cell_type": "markdown",
      "source": [
        "👋 ⚒ Get the first two elements of **list1** directly in a print statement using slicing."
      ],
      "metadata": {
        "id": "avMMW0tfAZxG"
      }
    },
    {
      "cell_type": "code",
      "source": [
        "# Your code to print \"This\", \"is\"\n",
        "list1 = [\"This\", \"is\", \"a\", \"list\"]"
      ],
      "metadata": {
        "id": "5GAt6JT0DZ2O"
      },
      "execution_count": null,
      "outputs": []
    },
    {
      "cell_type": "code",
      "source": [
        "# To iterate over two lists at the same time, you can use the function zip\n",
        "list2 = [1, 2, 3, 4]\n",
        "\n",
        "for elem_list1, elem_list2 in zip(list1, list2):\n",
        "  print(elem_list1, elem_list2)"
      ],
      "metadata": {
        "id": "y2gr2UDWIg_i"
      },
      "execution_count": null,
      "outputs": []
    },
    {
      "cell_type": "code",
      "source": [
        "# When you want to deduplicate a list, it is easiest to convert it into a set\n",
        "list1 = [\"This\", \"is\", \"a\", \"list\", \"list\", \"list\", \"list\"]\n",
        "print(set(list1))\n",
        "\n",
        "# There is a built in function to calculate the overlap of elements between a set and a list\n",
        "list2 = [\"This\", \"also\", \"is\", \"a\", \"list\"]\n",
        "set(list1).intersection(list2)"
      ],
      "metadata": {
        "id": "ANFjzysidsed"
      },
      "execution_count": null,
      "outputs": []
    },
    {
      "cell_type": "markdown",
      "source": [
        "## Dictionary\n",
        "\n",
        "Dictionaries are hash maps."
      ],
      "metadata": {
        "id": "11TaxZMsEfLa"
      }
    },
    {
      "cell_type": "code",
      "source": [
        "#Create an empty dictionary\n",
        "grades = {}\n",
        "grades = dict()"
      ],
      "metadata": {
        "id": "UionLcFBEqTH"
      },
      "execution_count": 33,
      "outputs": []
    },
    {
      "cell_type": "code",
      "source": [
        "#Add the first item to the dictionary\n",
        "grades = {\"Elon\" : \"5\"}\n",
        "#Add a second item to the dictionary\n",
        "grades[\"Mary\"] = \"1\"\n",
        "print(grades)"
      ],
      "metadata": {
        "id": "2y4QnivKFg4F",
        "outputId": "e9e63982-e69a-45f4-b51c-b5f2a39cf6af",
        "colab": {
          "base_uri": "https://localhost:8080/"
        }
      },
      "execution_count": 34,
      "outputs": [
        {
          "output_type": "stream",
          "name": "stdout",
          "text": [
            "{'Elon': '5', 'Mary': '1'}\n"
          ]
        }
      ]
    },
    {
      "cell_type": "code",
      "source": [
        "#Check if key is in dictionary\n",
        "print(\"Elon\" in grades)"
      ],
      "metadata": {
        "id": "SzAnO42TGt8n"
      },
      "execution_count": null,
      "outputs": []
    },
    {
      "cell_type": "code",
      "source": [
        "#Get a value based on the key\n",
        "print(grades[\"Elon\"])"
      ],
      "metadata": {
        "id": "t14MPvCoGzQq"
      },
      "execution_count": null,
      "outputs": []
    },
    {
      "cell_type": "code",
      "source": [
        "#Change value\n",
        "grades[\"Elon\"] = 4\n",
        "print(grades)"
      ],
      "metadata": {
        "id": "Yb8lqGGCG7SN"
      },
      "execution_count": null,
      "outputs": []
    },
    {
      "cell_type": "code",
      "source": [
        "#Iterate over dictionary keys and values\n",
        "for key, value in grades.items():\n",
        "  print(key, value)\n",
        "\n",
        "for value in grades.values():\n",
        "  print(value)"
      ],
      "metadata": {
        "id": "ytiOgQHyHUmm"
      },
      "execution_count": null,
      "outputs": []
    },
    {
      "cell_type": "markdown",
      "source": [
        "👋 ⚒ Iterate over both lists simultaneously and write list1 as keys and list2 as corresponding values into a new dictionary."
      ],
      "metadata": {
        "id": "9zm9d_8UHK94"
      }
    },
    {
      "cell_type": "code",
      "source": [
        "list1 = [\"Anna\", \"Hans\", \"Tom\"]\n",
        "list2 = [1, 2, 1]\n",
        "\n",
        "grades = {}\n",
        "\n",
        "#The result should be {'Anna': 1, 'Hans': 2, 'Tom': 1}\n",
        "print(grades)"
      ],
      "metadata": {
        "id": "IVMUvAecHqwo"
      },
      "execution_count": null,
      "outputs": []
    },
    {
      "cell_type": "code",
      "source": [
        "#Delete an item\n",
        "del grades[\"Tom\"]\n",
        "print(grades)"
      ],
      "metadata": {
        "id": "Pjg2fTTwHC1i"
      },
      "execution_count": null,
      "outputs": []
    }
  ]
}